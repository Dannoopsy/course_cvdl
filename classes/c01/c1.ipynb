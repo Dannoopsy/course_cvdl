{
 "cells": [
  {
   "cell_type": "markdown",
   "id": "a802d3a6",
   "metadata": {
    "cellId": "yyjyimvh1hefdnvmtsc8we"
   },
   "source": [
    "## Занятие 1. Обратное распространение ошибки + Numpy туториал. "
   ]
  },
  {
   "cell_type": "raw",
   "id": "106775a6",
   "metadata": {
    "cellId": "7tic7tol1fm6zlqigqzt8"
   },
   "source": [
    "Содержание:\n",
    "- Получение оценки за курс\n",
    "- Разбор первого ДЗ\n",
    "- Повторение необходимой минимальной теории\n",
    "- Обзор необходимого минимума по numpy"
   ]
  },
  {
   "cell_type": "code",
   "execution_count": null,
   "id": "c998a807",
   "metadata": {
    "cellId": "zxyl2x0nhj7441tg89dsj"
   },
   "outputs": [],
   "source": [
    "! git checkout . & git pull origin main"
   ]
  },
  {
   "cell_type": "markdown",
   "id": "0e3dfc5c",
   "metadata": {
    "cellId": "b9ri5rnacepaoc0e5bubfs",
    "execution_id": "fa024c22-f398-40ae-a7b9-7e364ded8788"
   },
   "source": [
    "### Подготовка среды и установка пакета \n",
    "Локально вы можете установить пакет в своей среде так, как описано в task1/README.md.\n",
    "\n",
    "В Yandex Datasphere для корректной установке надо использовать Jupyter команду %pip, как сделано в ячейке ниже"
   ]
  },
  {
   "cell_type": "code",
   "execution_count": 47,
   "id": "e3c1a002",
   "metadata": {
    "cellId": "0yaptqy24z3m4ld9qtc6h1l"
   },
   "outputs": [
    {
     "name": "stdout",
     "output_type": "stream",
     "text": [
      "/home/jupyter/work/resources/course_cvdl\n",
      "/home/jupyter/work/resources/course_cvdl/task1\n"
     ]
    }
   ],
   "source": [
    "from pathlib import Path\n",
    "_COURSE_ROOT = Path().resolve().parent.parent\n",
    "print(_COURSE_ROOT)\n",
    "_TASK1_PATH = str((_COURSE_ROOT / 'task1').absolute())\n",
    "print(_TASK1_PATH)"
   ]
  },
  {
   "cell_type": "code",
   "execution_count": 49,
   "id": "0b8c3e99",
   "metadata": {
    "cellId": "mlnmbp1vasjmyg5i8v92dk"
   },
   "outputs": [
    {
     "name": "stdout",
     "output_type": "stream",
     "text": [
      "Defaulting to user installation because normal site-packages is not writeable\n",
      "Obtaining file:///home/jupyter/work/resources/course_cvdl/task1\n",
      "  Checking if build backend supports build_editable ... \u001b[?25ldone\n",
      "\u001b[?25h  Preparing editable metadata (pyproject.toml) ... \u001b[?25ldone\n",
      "\u001b[?25hRequirement already satisfied: numpy in /usr/local/lib/python3.9/dist-packages (from a4_course_cvdl_t1==0.2.0) (1.25.2)\n",
      "Requirement already satisfied: pytest in /usr/local/lib/python3.9/dist-packages (from a4_course_cvdl_t1==0.2.0) (7.4.2)\n",
      "Requirement already satisfied: iniconfig in /usr/local/lib/python3.9/dist-packages (from pytest->a4_course_cvdl_t1==0.2.0) (2.0.0)\n",
      "Requirement already satisfied: packaging in /kernel/lib/python3.9/site-packages (from pytest->a4_course_cvdl_t1==0.2.0) (23.1)\n",
      "Requirement already satisfied: pluggy<2.0,>=0.12 in /usr/local/lib/python3.9/dist-packages (from pytest->a4_course_cvdl_t1==0.2.0) (1.3.0)\n",
      "Requirement already satisfied: exceptiongroup>=1.0.0rc8 in /usr/local/lib/python3.9/dist-packages (from pytest->a4_course_cvdl_t1==0.2.0) (1.1.3)\n",
      "Requirement already satisfied: tomli>=1.0.0 in /usr/local/lib/python3.9/dist-packages (from pytest->a4_course_cvdl_t1==0.2.0) (2.0.1)\n",
      "Building wheels for collected packages: a4_course_cvdl_t1\n",
      "  Building editable for a4_course_cvdl_t1 (pyproject.toml) ... \u001b[?25ldone\n",
      "\u001b[?25h  Created wheel for a4_course_cvdl_t1: filename=a4_course_cvdl_t1-0.2.0-py3-none-any.whl size=1079 sha256=3c3a41071909a7a4780e5bc1e886ae8eb637bb4a1c07a2df1c1fdc6e56ee817d\n",
      "  Stored in directory: /tmp/pip-ephem-wheel-cache-dk5ykkhv/wheels/a7/a0/20/1ae21469f0f5bbdf8ddfb818fd7f65b24ace9c4ed920572a8b\n",
      "Successfully built a4_course_cvdl_t1\n",
      "Installing collected packages: a4_course_cvdl_t1\n",
      "  Attempting uninstall: a4_course_cvdl_t1\n",
      "    Found existing installation: a4_course_cvdl_t1 0.2.0\n",
      "    Uninstalling a4_course_cvdl_t1-0.2.0:\n",
      "      Successfully uninstalled a4_course_cvdl_t1-0.2.0\n",
      "Successfully installed a4_course_cvdl_t1-0.2.0\n"
     ]
    }
   ],
   "source": [
    "%pip install -e {_TASK1_PATH}"
   ]
  },
  {
   "cell_type": "markdown",
   "id": "f938b8ab",
   "metadata": {
    "cellId": "1h568z3th7zyi796hmsa4m",
    "execution_id": "e8b8af27-4ef8-416c-9a44-242e96258091"
   },
   "source": [
    "### Запуск тестов пакета"
   ]
  },
  {
   "cell_type": "code",
   "execution_count": 50,
   "id": "934b05da",
   "metadata": {
    "cellId": "4mf2wtq6t2d9sxidex6cx"
   },
   "outputs": [],
   "source": [
    "import a4_course_cvdl_t1\n",
    "from a4_course_cvdl_t1.relu import ReluLayer"
   ]
  },
  {
   "cell_type": "markdown",
   "id": "aa80649e",
   "metadata": {
    "cellId": "azfc50qd05shs4cijyj569",
    "execution_id": "3f03c349-27f4-4e98-a92f-07cb1cecf998"
   },
   "source": [
    "Если указать конкретный модуль с тестами - будет запущен только он\n",
    "\n",
    "Если добавить флаг `-x` - после первого падения тесты будут прерваны."
   ]
  },
  {
   "cell_type": "code",
   "execution_count": 51,
   "id": "45bc61e0",
   "metadata": {
    "cellId": "j29f7vw3ust5gbaxa4or9"
   },
   "outputs": [
    {
     "name": "stdout",
     "output_type": "stream",
     "text": [
      "============================= test session starts ==============================\n",
      "platform linux -- Python 3.9.5, pytest-7.4.2, pluggy-1.3.0\n",
      "rootdir: /home/jupyter/work/resources/course_cvdl/classes/c01\n",
      "collected 4 items\n",
      "\n",
      ". F\n",
      "\n",
      "=================================== FAILURES ===================================\n",
      "_______________________ TestLayer.test_init[test_data0] ________________________\n",
      "\n",
      "self = <a4_course_cvdl_t1.tests.base.TestLayer object at 0x7f8605da53d0>\n",
      "test_data = {'meta': {'description': 'The only ReLU test.', 'layer_kwargs': {}}, 'values': {'input': [[[[0.3445909917354584, -0.44...36354065], [0.320019006729126, 0.7765920162200928, 0.8497490286827087, 0.796563982963562, 0.9298689961433411]]]], ...}}\n",
      "test_layer_cls = <class 'a4_course_cvdl_t1.relu.ReluLayer'>\n",
      "\n",
      "    def test_init(self, test_data, test_layer_cls):\n",
      "        values = test_data['values']\n",
      "        meta = test_data['meta']\n",
      "        layer_kwargs = meta['layer_kwargs']\n",
      "    \n",
      "        # check layer creation\n",
      "        try:\n",
      ">           layer = test_layer_cls(**layer_kwargs)\n",
      "\n",
      "../../task1/a4_course_cvdl_t1/tests/base.py:32: \n",
      "_ _ _ _ _ _ _ _ _ _ _ _ _ _ _ _ _ _ _ _ _ _ _ _ _ _ _ _ _ _ _ _ _ _ _ _ _ _ _ _ \n",
      "\n",
      "self = <a4_course_cvdl_t1.relu.ReluLayer object at 0x7f8605da50a0>\n",
      "\n",
      "    def __init__(self):\n",
      "        super().__init__()\n",
      ">       raise NotImplementedError()\n",
      "E       NotImplementedError\n",
      "\n",
      "../../task1/a4_course_cvdl_t1/relu.py:12: NotImplementedError\n",
      "\n",
      "During handling of the above exception, another exception occurred:\n",
      "\n",
      "self = <a4_course_cvdl_t1.tests.base.TestLayer object at 0x7f8605da53d0>\n",
      "test_data = {'meta': {'description': 'The only ReLU test.', 'layer_kwargs': {}}, 'values': {'input': [[[[0.3445909917354584, -0.44...36354065], [0.320019006729126, 0.7765920162200928, 0.8497490286827087, 0.796563982963562, 0.9298689961433411]]]], ...}}\n",
      "test_layer_cls = <class 'a4_course_cvdl_t1.relu.ReluLayer'>\n",
      "\n",
      "    def test_init(self, test_data, test_layer_cls):\n",
      "        values = test_data['values']\n",
      "        meta = test_data['meta']\n",
      "        layer_kwargs = meta['layer_kwargs']\n",
      "    \n",
      "        # check layer creation\n",
      "        try:\n",
      "            layer = test_layer_cls(**layer_kwargs)\n",
      "        except Exception as exc:\n",
      ">           raise AssertionError(\n",
      "                self.error_message(meta, f\"Failed __init__ with kwargs '{layer_kwargs}':{exc}\")\n",
      "            )\n",
      "E           AssertionError: [The only ReLU test.]:Failed __init__ with kwargs '{}':\n",
      "\n",
      "../../task1/a4_course_cvdl_t1/tests/base.py:34: AssertionError\n",
      "=========================== short test summary info ============================\n",
      "FAILED ::TestLayer::test_init[test_data0] - AssertionError: [The only ReLU te...\n",
      "!!!!!!!!!!!!!!!!!!!!!!!!!! stopping after 1 failures !!!!!!!!!!!!!!!!!!!!!!!!!!!\n",
      "============================== 1 failed in 0.20s ===============================\n"
     ]
    },
    {
     "ename": "Exception",
     "evalue": "Process exited with code 1",
     "output_type": "error",
     "traceback": [
      "\u001b[0;31m---------------------------------------------------------------------------\u001b[0m",
      "\u001b[0;31mException\u001b[0m                                 Traceback (most recent call last)",
      "\u001b[0;32m<ipython-input-7-e638c7d460df>\u001b[0m in \u001b[0;36m<module>\u001b[0;34m\u001b[0m\n\u001b[0;32m----> 1\u001b[0;31m \u001b[0mget_ipython\u001b[0m\u001b[0;34m(\u001b[0m\u001b[0;34m)\u001b[0m\u001b[0;34m.\u001b[0m\u001b[0msystem\u001b[0m\u001b[0;34m(\u001b[0m\u001b[0;34m' pytest --pyargs a4_course_cvdl_t1.tests.test_0relu -x'\u001b[0m\u001b[0;34m)\u001b[0m\u001b[0;34m\u001b[0m\u001b[0;34m\u001b[0m\u001b[0m\n\u001b[0m\u001b[1;32m      2\u001b[0m \u001b[0;31m#\u001b[0m\u001b[0;34m\u001b[0m\u001b[0;34m\u001b[0m\u001b[0;34m\u001b[0m\u001b[0m\n",
      "\u001b[0;32m/kernel/lib/python3.9/site-packages/ml_kernel/kernel.py\u001b[0m in \u001b[0;36m<lambda>\u001b[0;34m(code)\u001b[0m\n\u001b[1;32m    295\u001b[0m \u001b[0;34m\u001b[0m\u001b[0m\n\u001b[1;32m    296\u001b[0m         \u001b[0mself\u001b[0m\u001b[0;34m.\u001b[0m\u001b[0m_script_executor\u001b[0m \u001b[0;34m=\u001b[0m \u001b[0mScriptExecutor\u001b[0m\u001b[0;34m(\u001b[0m\u001b[0mget_output_error_code\u001b[0m\u001b[0;34m)\u001b[0m\u001b[0;34m\u001b[0m\u001b[0;34m\u001b[0m\u001b[0m\n\u001b[0;32m--> 297\u001b[0;31m         \u001b[0mself\u001b[0m\u001b[0;34m.\u001b[0m\u001b[0mshell\u001b[0m\u001b[0;34m.\u001b[0m\u001b[0msystem\u001b[0m \u001b[0;34m=\u001b[0m \u001b[0;32mlambda\u001b[0m \u001b[0mcode\u001b[0m\u001b[0;34m:\u001b[0m \u001b[0mself\u001b[0m\u001b[0;34m.\u001b[0m\u001b[0m_script_executor\u001b[0m\u001b[0;34m.\u001b[0m\u001b[0mexecute\u001b[0m\u001b[0;34m(\u001b[0m\u001b[0;34m\"bash\"\u001b[0m\u001b[0;34m,\u001b[0m \u001b[0mcode\u001b[0m\u001b[0;34m)\u001b[0m\u001b[0;34m\u001b[0m\u001b[0;34m\u001b[0m\u001b[0m\n\u001b[0m\u001b[1;32m    298\u001b[0m \u001b[0;34m\u001b[0m\u001b[0m\n\u001b[1;32m    299\u001b[0m     \u001b[0;32mdef\u001b[0m \u001b[0m_init_message_handlers\u001b[0m\u001b[0;34m(\u001b[0m\u001b[0mself\u001b[0m\u001b[0;34m)\u001b[0m\u001b[0;34m:\u001b[0m\u001b[0;34m\u001b[0m\u001b[0;34m\u001b[0m\u001b[0m\n",
      "\u001b[0;32m/kernel/lib/python3.9/site-packages/ml_kernel/script_executor.py\u001b[0m in \u001b[0;36mexecute\u001b[0;34m(self, lang, code)\u001b[0m\n\u001b[1;32m     41\u001b[0m         \u001b[0mreturn_code\u001b[0m \u001b[0;34m=\u001b[0m \u001b[0mself\u001b[0m\u001b[0;34m.\u001b[0m\u001b[0mdo_execute\u001b[0m\u001b[0;34m(\u001b[0m\u001b[0mcode\u001b[0m\u001b[0;34m)\u001b[0m\u001b[0;34m\u001b[0m\u001b[0;34m\u001b[0m\u001b[0m\n\u001b[1;32m     42\u001b[0m         \u001b[0;32mif\u001b[0m \u001b[0mreturn_code\u001b[0m \u001b[0;34m!=\u001b[0m \u001b[0;36m0\u001b[0m\u001b[0;34m:\u001b[0m\u001b[0;34m\u001b[0m\u001b[0;34m\u001b[0m\u001b[0m\n\u001b[0;32m---> 43\u001b[0;31m             \u001b[0;32mraise\u001b[0m \u001b[0mException\u001b[0m\u001b[0;34m(\u001b[0m\u001b[0;34m'Process exited with code %d'\u001b[0m \u001b[0;34m%\u001b[0m \u001b[0mreturn_code\u001b[0m\u001b[0;34m)\u001b[0m\u001b[0;34m\u001b[0m\u001b[0;34m\u001b[0m\u001b[0m\n\u001b[0m",
      "\u001b[0;31mException\u001b[0m: Process exited with code 1"
     ]
    }
   ],
   "source": [
    "! pytest --pyargs a4_course_cvdl_t1.tests.test_0relu -x"
   ]
  },
  {
   "cell_type": "code",
   "execution_count": 52,
   "id": "f05d67b4",
   "metadata": {
    "cellId": "pamaif521ugfgrzi2r7yj"
   },
   "outputs": [
    {
     "name": "stdout",
     "output_type": "stream",
     "text": [
      "Help on class ReluLayer in module a4_course_cvdl_t1.relu:\n",
      "\n",
      "class ReluLayer(a4_course_cvdl_t1.base.BaseLayer)\n",
      " |  Слой, выполняющий Relu активацию y = max(x, 0).\n",
      " |  Не имеет параметров.\n",
      " |  \n",
      " |  Method resolution order:\n",
      " |      ReluLayer\n",
      " |      a4_course_cvdl_t1.base.BaseLayer\n",
      " |      builtins.object\n",
      " |  \n",
      " |  Methods defined here:\n",
      " |  \n",
      " |  __init__(self)\n",
      " |      Initialize self.  See help(type(self)) for accurate signature.\n",
      " |  \n",
      " |  backward(self, output_grad: numpy.ndarray) -> numpy.ndarray\n",
      " |      Принимат dL/dy, возвращает dL/dx.\n",
      " |  \n",
      " |  forward(self, input: numpy.ndarray) -> numpy.ndarray\n",
      " |      Принимает x, возвращает y(x)\n",
      " |  \n",
      " |  ----------------------------------------------------------------------\n",
      " |  Data descriptors inherited from a4_course_cvdl_t1.base.BaseLayer:\n",
      " |  \n",
      " |  __dict__\n",
      " |      dictionary for instance variables (if defined)\n",
      " |  \n",
      " |  __weakref__\n",
      " |      list of weak references to the object (if defined)\n",
      " |  \n",
      " |  ----------------------------------------------------------------------\n",
      " |  Data and other attributes inherited from a4_course_cvdl_t1.base.BaseLayer:\n",
      " |  \n",
      " |  __metaclass__ = <class 'abc.ABCMeta'>\n",
      " |      Metaclass for defining Abstract Base Classes (ABCs).\n",
      " |      \n",
      " |      Use this metaclass to create an ABC.  An ABC can be subclassed\n",
      " |      directly, and then acts as a mix-in class.  You can also register\n",
      " |      unrelated concrete classes (even built-in classes) and unrelated\n",
      " |      ABCs as 'virtual subclasses' -- these and their descendants will\n",
      " |      be considered subclasses of the registering ABC by the built-in\n",
      " |      issubclass() function, but the registering ABC won't show up in\n",
      " |      their MRO (Method Resolution Order) nor will method\n",
      " |      implementations defined by the registering ABC be callable (not\n",
      " |      even via super()).\n",
      "\n",
      "None\n"
     ]
    }
   ],
   "source": [
    "import numpy as np\n",
    "from a4_course_cvdl_t1.relu import ReluLayer\n",
    "print(help(ReluLayer))"
   ]
  },
  {
   "cell_type": "markdown",
   "id": "84045c8d",
   "metadata": {
    "cellId": "jvw9rt6foapuy5aam4h0b",
    "execution_id": "d16a0984-0c2b-4bb2-aff0-4d508fc4c0ae"
   },
   "source": [
    "### Исправляем ReluLayer.1\n",
    "Задача: дописать ReluLayer.\\_\\_init\\_\\_, .forward()"
   ]
  },
  {
   "cell_type": "markdown",
   "id": "2f50a81c",
   "metadata": {
    "cellId": "0svrlriqnmgwhrpro5f2yj",
    "execution_id": "9c9f6d50-471a-4fa0-bc3b-9f596c66e840"
   },
   "source": [
    "### Создание тензоров"
   ]
  },
  {
   "cell_type": "code",
   "execution_count": 53,
   "id": "f9dd93b5",
   "metadata": {
    "cellId": "oyw0p5kbwihwn6ab8gyhv"
   },
   "outputs": [
    {
     "name": "stdout",
     "output_type": "stream",
     "text": [
      "[[[ 0.09391292  0.35734647 -0.3503454  -0.08923428]\n",
      "  [-0.46561049  0.11486326  0.24514212  0.22217756]\n",
      "  [ 0.21713041  0.18565045 -0.296113    0.44627214]]\n",
      "\n",
      " [[-0.47745257  0.40048562 -0.25353957  0.17430979]\n",
      "  [-0.42688944 -0.48217679 -0.25995528  0.33906299]\n",
      "  [ 0.02201373 -0.29682538  0.00854723 -0.2632649 ]]]\n",
      "[[[0. 0. 0. 0.]\n",
      "  [0. 0. 0. 0.]\n",
      "  [0. 0. 0. 0.]]\n",
      "\n",
      " [[0. 0. 0. 0.]\n",
      "  [0. 0. 0. 0.]\n",
      "  [0. 0. 0. 0.]]]\n"
     ]
    }
   ],
   "source": [
    "a = np.random.rand(2, 3, 4) - 0.5\n",
    "b = np.zeros(a.shape)\n",
    "print(a) \n",
    "print(b)"
   ]
  },
  {
   "cell_type": "markdown",
   "id": "76946296",
   "metadata": {
    "cellId": "yh1wbdnudrpfnzi59bndob",
    "execution_id": "00ae774c-012f-4df0-b2bb-2c19af50c4a0"
   },
   "source": [
    "### Поиск максимума"
   ]
  },
  {
   "cell_type": "code",
   "execution_count": 54,
   "id": "fae29b3a",
   "metadata": {
    "cellId": "okn4eao622h2icracgiwu"
   },
   "outputs": [
    {
     "data": {
      "text/plain": [
       "0.4462721386847839"
      ]
     },
     "execution_count": 54,
     "metadata": {},
     "output_type": "execute_result"
    }
   ],
   "source": [
    "np.max(a)"
   ]
  },
  {
   "cell_type": "code",
   "execution_count": 55,
   "id": "15121ce6",
   "metadata": {
    "cellId": "dk93ict30udlqi919ux51"
   },
   "outputs": [
    {
     "data": {
      "text/plain": [
       "array([[[0.09391292, 0.35734647, 0.        , 0.        ],\n",
       "        [0.        , 0.11486326, 0.24514212, 0.22217756],\n",
       "        [0.21713041, 0.18565045, 0.        , 0.44627214]],\n",
       "\n",
       "       [[0.        , 0.40048562, 0.        , 0.17430979],\n",
       "        [0.        , 0.        , 0.        , 0.33906299],\n",
       "        [0.02201373, 0.        , 0.00854723, 0.        ]]])"
      ]
     },
     "execution_count": 55,
     "metadata": {},
     "output_type": "execute_result"
    }
   ],
   "source": [
    "np.maximum(a, b)"
   ]
  },
  {
   "cell_type": "code",
   "execution_count": 56,
   "id": "eabbd95e",
   "metadata": {
    "cellId": "0qef0u1yn0kfesxiwldanlf"
   },
   "outputs": [
    {
     "data": {
      "text/plain": [
       "11"
      ]
     },
     "execution_count": 56,
     "metadata": {},
     "output_type": "execute_result"
    }
   ],
   "source": [
    "np.argmax(a)"
   ]
  },
  {
   "cell_type": "markdown",
   "id": "845c73f1",
   "metadata": {
    "cellId": "jy9zpnytqtmnugov5t1bcp",
    "execution_id": "8315ec3e-4cf9-4e6f-b4a8-6e3a7480b29c"
   },
   "source": [
    "Argmax возвращает \"плоский\" индекс, его нельзя использовать напрямую для индексации многомерного массива - получится\n",
    "**IndexError**"
   ]
  },
  {
   "cell_type": "code",
   "execution_count": 57,
   "id": "6acbb13a",
   "metadata": {
    "cellId": "6050p97a4xmqnafomhf8"
   },
   "outputs": [
    {
     "name": "stdout",
     "output_type": "stream",
     "text": [
      "0.4462721386847839\n",
      "---IndexError----\n"
     ]
    },
    {
     "ename": "IndexError",
     "evalue": "index 11 is out of bounds for axis 0 with size 2",
     "output_type": "error",
     "traceback": [
      "\u001b[0;31m---------------------------------------------------------------------------\u001b[0m",
      "\u001b[0;31mIndexError\u001b[0m                                Traceback (most recent call last)",
      "\u001b[0;32m<ipython-input-13-a59cb2162aa3>\u001b[0m in \u001b[0;36m<module>\u001b[0;34m\u001b[0m\n\u001b[1;32m      1\u001b[0m \u001b[0mprint\u001b[0m\u001b[0;34m(\u001b[0m\u001b[0ma\u001b[0m\u001b[0;34m.\u001b[0m\u001b[0mflatten\u001b[0m\u001b[0;34m(\u001b[0m\u001b[0;34m)\u001b[0m\u001b[0;34m[\u001b[0m\u001b[0mnp\u001b[0m\u001b[0;34m.\u001b[0m\u001b[0margmax\u001b[0m\u001b[0;34m(\u001b[0m\u001b[0ma\u001b[0m\u001b[0;34m)\u001b[0m\u001b[0;34m]\u001b[0m\u001b[0;34m)\u001b[0m\u001b[0;34m\u001b[0m\u001b[0;34m\u001b[0m\u001b[0m\n\u001b[1;32m      2\u001b[0m \u001b[0mprint\u001b[0m\u001b[0;34m(\u001b[0m\u001b[0;34m'---IndexError----'\u001b[0m\u001b[0;34m)\u001b[0m\u001b[0;34m\u001b[0m\u001b[0;34m\u001b[0m\u001b[0m\n\u001b[0;32m----> 3\u001b[0;31m \u001b[0ma\u001b[0m\u001b[0;34m[\u001b[0m\u001b[0mnp\u001b[0m\u001b[0;34m.\u001b[0m\u001b[0margmax\u001b[0m\u001b[0;34m(\u001b[0m\u001b[0ma\u001b[0m\u001b[0;34m)\u001b[0m\u001b[0;34m]\u001b[0m\u001b[0;34m\u001b[0m\u001b[0;34m\u001b[0m\u001b[0m\n\u001b[0m\u001b[1;32m      4\u001b[0m \u001b[0;31m#\u001b[0m\u001b[0;34m\u001b[0m\u001b[0;34m\u001b[0m\u001b[0;34m\u001b[0m\u001b[0m\n",
      "\u001b[0;31mIndexError\u001b[0m: index 11 is out of bounds for axis 0 with size 2"
     ]
    }
   ],
   "source": [
    "print(a.flatten()[np.argmax(a)])\n",
    "print('---IndexError----')\n",
    "a[np.argmax(a)]"
   ]
  },
  {
   "cell_type": "markdown",
   "id": "4beeec85",
   "metadata": {
    "cellId": "s21oxmfu2p3n0asfc5mdz",
    "execution_id": "5064c5cb-7a66-4a8e-ac43-16b1498409fb"
   },
   "source": [
    "\"Плоский\" индекс можно раскрутитьв N-мерный индекс, и использовать его для индексации"
   ]
  },
  {
   "cell_type": "code",
   "execution_count": null,
   "id": "747802d7",
   "metadata": {
    "cellId": "wf01tb1ae49kbs7384v9n"
   },
   "outputs": [],
   "source": [
    "idx_nd = np.unravel_index(np.argmax(a), a.shape)\n",
    "print(idx_nd)\n",
    "a[idx_nd]"
   ]
  },
  {
   "cell_type": "markdown",
   "id": "d02bce36",
   "metadata": {
    "cellId": "92hyytpwq0hl4occqzkzk",
    "execution_id": "4775ec09-dab6-43a7-8716-2d3f7209e42a"
   },
   "source": [
    "### Поэлементные операции"
   ]
  },
  {
   "cell_type": "code",
   "execution_count": 58,
   "id": "edef8294",
   "metadata": {
    "cellId": "n0m7nv2gy6etf530vpt9x"
   },
   "outputs": [
    {
     "data": {
      "text/plain": [
       "array([[[ 0.,  0., -0., -0.],\n",
       "        [-0.,  0.,  0.,  0.],\n",
       "        [ 0.,  0., -0.,  0.]],\n",
       "\n",
       "       [[-0.,  0., -0.,  0.],\n",
       "        [-0., -0., -0.,  0.],\n",
       "        [ 0., -0.,  0., -0.]]])"
      ]
     },
     "execution_count": 58,
     "metadata": {},
     "output_type": "execute_result"
    }
   ],
   "source": [
    "a * b"
   ]
  },
  {
   "cell_type": "code",
   "execution_count": 59,
   "id": "42d474a1",
   "metadata": {
    "cellId": "fisvp07dnodd7wos6ry8"
   },
   "outputs": [
    {
     "data": {
      "text/plain": [
       "array([[[ 0.09391292,  0.35734647, -0.3503454 , -0.08923428],\n",
       "        [-0.46561049,  0.11486326,  0.24514212,  0.22217756],\n",
       "        [ 0.21713041,  0.18565045, -0.296113  ,  0.44627214]],\n",
       "\n",
       "       [[-0.47745257,  0.40048562, -0.25353957,  0.17430979],\n",
       "        [-0.42688944, -0.48217679, -0.25995528,  0.33906299],\n",
       "        [ 0.02201373, -0.29682538,  0.00854723, -0.2632649 ]]])"
      ]
     },
     "execution_count": 59,
     "metadata": {},
     "output_type": "execute_result"
    }
   ],
   "source": [
    "a + b"
   ]
  },
  {
   "cell_type": "markdown",
   "id": "8ee3ec1d",
   "metadata": {
    "cellId": "sjhvixcnvuejhe9x7v02pi",
    "execution_id": "f984534a-7253-49b2-ae0d-108c7a9209b6"
   },
   "source": [
    "### Срезы"
   ]
  },
  {
   "cell_type": "code",
   "execution_count": 60,
   "id": "04cce5ec",
   "metadata": {
    "cellId": "r48vdmgpv6bvtstg1hoiln"
   },
   "outputs": [
    {
     "name": "stdout",
     "output_type": "stream",
     "text": [
      "a             \t (2, 3, 4)\n",
      "a[0]          \t (3, 4)\n",
      "a[:, 0]       \t (2, 4)\n",
      "a[:, 0, 1:2]  \t (2, 2)\n",
      "a[:, [0], 1:2]\t (2, 1, 2)\n",
      "a[:, None]    \t (2, 1, 3, 4)\n"
     ]
    }
   ],
   "source": [
    "print(\"a             \\t\", a.shape)\n",
    "print(\"a[0]          \\t\", a[0].shape)\n",
    "print(\"a[:, 0]       \\t\", a[:, 0].shape)\n",
    "print(\"a[:, 0, 1:2]  \\t\", a[:, 0, 0:2].shape)\n",
    "print(\"a[:, [0], 1:2]\\t\", a[:, [0], 0:2].shape)\n",
    "print(\"a[:, None]    \\t\", a[:, None].shape)"
   ]
  },
  {
   "cell_type": "markdown",
   "id": "90f2fd5c",
   "metadata": {
    "cellId": "1j0ai56efkz4vu4hoc9y36",
    "execution_id": "d1a10130-becb-4aeb-8859-6917e48f2f4e"
   },
   "source": [
    "### Индексация\n",
    "Булевая индексация: индекс имеет форму тензора со значениями True и False"
   ]
  },
  {
   "cell_type": "code",
   "execution_count": 61,
   "id": "c058cc2e",
   "metadata": {
    "cellId": "n1uo68777ipyhvd3fkd5n"
   },
   "outputs": [
    {
     "name": "stdout",
     "output_type": "stream",
     "text": [
      "(2, 3, 4) (2, 3, 4) bool\n"
     ]
    },
    {
     "data": {
      "text/plain": [
       "array([[[ True,  True, False, False],\n",
       "        [False,  True,  True,  True],\n",
       "        [ True,  True, False,  True]],\n",
       "\n",
       "       [[False,  True, False,  True],\n",
       "        [False, False, False,  True],\n",
       "        [ True, False,  True, False]]])"
      ]
     },
     "execution_count": 61,
     "metadata": {},
     "output_type": "execute_result"
    }
   ],
   "source": [
    "idx = a > 0\n",
    "print(a.shape, idx.shape, idx.dtype)\n",
    "idx"
   ]
  },
  {
   "cell_type": "markdown",
   "id": "abca0241",
   "metadata": {
    "cellId": "5z7l2t6dpodbk9qzta1ae",
    "execution_id": "553fd6ad-9d75-4de7-b0f5-14ab10c05146"
   },
   "source": [
    "Результат индексации - плоский массив"
   ]
  },
  {
   "cell_type": "code",
   "execution_count": 62,
   "id": "642a9bb2",
   "metadata": {
    "cellId": "obpdmikb4fcpj670hu20z8"
   },
   "outputs": [
    {
     "data": {
      "text/plain": [
       "(13,)"
      ]
     },
     "execution_count": 62,
     "metadata": {},
     "output_type": "execute_result"
    }
   ],
   "source": [
    "a[idx].shape"
   ]
  },
  {
   "cell_type": "code",
   "execution_count": 63,
   "id": "5e1a7b70",
   "metadata": {
    "cellId": "mpnz3j9vtfk07gsl81qhtli"
   },
   "outputs": [
    {
     "data": {
      "text/plain": [
       "array([0.44627214])"
      ]
     },
     "execution_count": 63,
     "metadata": {},
     "output_type": "execute_result"
    }
   ],
   "source": [
    "a[a == np.max(a)]"
   ]
  },
  {
   "cell_type": "markdown",
   "id": "1581f792",
   "metadata": {
    "cellId": "wshoaa0vwga64s73xzirr",
    "execution_id": "bbd49354-61cb-42ca-9d36-b92342abb159"
   },
   "source": [
    "Индексация \"координатами\": индекс - массивы N-мерных координат элементов"
   ]
  },
  {
   "cell_type": "code",
   "execution_count": 64,
   "id": "79d7bef2",
   "metadata": {
    "cellId": "aok8051rso4fwut0cev5xc"
   },
   "outputs": [
    {
     "name": "stdout",
     "output_type": "stream",
     "text": [
      "(2, 3, 4)\n"
     ]
    },
    {
     "data": {
      "text/plain": [
       "array([[[ 0,  1,  2,  3],\n",
       "        [ 4,  5,  6,  7],\n",
       "        [ 8,  9, 10, 11]],\n",
       "\n",
       "       [[12, 13, 14, 15],\n",
       "        [16, 17, 18, 19],\n",
       "        [20, 21, 22, 23]]])"
      ]
     },
     "execution_count": 64,
     "metadata": {},
     "output_type": "execute_result"
    }
   ],
   "source": [
    "# Создадим пробный тензор для индексации\n",
    "c = np.arange(\n",
    "    np.prod(a.shape)\n",
    ").reshape(a.shape)\n",
    "print(c.shape)\n",
    "c"
   ]
  },
  {
   "cell_type": "code",
   "execution_count": 65,
   "id": "b9c1df4c",
   "metadata": {
    "cellId": "m6pnz6csckpx0s6wpy83u"
   },
   "outputs": [
    {
     "data": {
      "text/plain": [
       "array([ 7, 22,  9,  8,  8,  8])"
      ]
     },
     "execution_count": 65,
     "metadata": {},
     "output_type": "execute_result"
    }
   ],
   "source": [
    "# Каждый столбец - индексирует один элемент\n",
    "# Результат - плоский список\n",
    "c[\n",
    "    [0,  1,  0,  0,  0,  0],\n",
    "    [1, -1,  2, -1, -1, -1],\n",
    "    [3,  2,  1,  0,  0,  0]\n",
    "]"
   ]
  },
  {
   "cell_type": "code",
   "execution_count": 66,
   "id": "0257e600",
   "metadata": {
    "cellId": "x29x6mcysxplakfh2aw0f"
   },
   "outputs": [
    {
     "data": {
      "text/plain": [
       "array([[ 7, 22,  9],\n",
       "       [ 8,  8,  8]])"
      ]
     },
     "execution_count": 66,
     "metadata": {},
     "output_type": "execute_result"
    }
   ],
   "source": [
    "# Если индексы - не плоские, то и результат не плоский\n",
    "c[\n",
    "    [[0,  1,  0],[  0,  0,  0]],\n",
    "    [[1, -1,  2],[ -1, -1, -1]],\n",
    "    [[3,  2,  1],[  0, 0,   0]],\n",
    "]"
   ]
  },
  {
   "cell_type": "markdown",
   "id": "1b6e76d0",
   "metadata": {
    "cellId": "5ws3ltterf7bctqopg99i",
    "execution_id": "357974de-9064-41f3-8777-9700e2e1fc61"
   },
   "source": [
    "### Исправляем ReluLayer.2\n",
    "Задача: дописать ReluLayer.backward()"
   ]
  },
  {
   "cell_type": "code",
   "execution_count": 67,
   "id": "61369c6b",
   "metadata": {
    "cellId": "x5hh1f13qbcn90ytop2zd"
   },
   "outputs": [
    {
     "name": "stdout",
     "output_type": "stream",
     "text": [
      "============================= test session starts ==============================\n",
      "platform linux -- Python 3.9.5, pytest-7.4.2, pluggy-1.3.0\n",
      "rootdir: /home/jupyter/work/resources/course_cvdl/classes/c01\n",
      "collected 4 items\n",
      "\n",
      ". F\n",
      "\n",
      "=================================== FAILURES ===================================\n",
      "_______________________ TestLayer.test_init[test_data0] ________________________\n",
      "\n",
      "self = <a4_course_cvdl_t1.tests.base.TestLayer object at 0x7f3a8351f9d0>\n",
      "test_data = {'meta': {'description': 'The only ReLU test.', 'layer_kwargs': {}}, 'values': {'input': [[[[0.3445909917354584, -0.44...36354065], [0.320019006729126, 0.7765920162200928, 0.8497490286827087, 0.796563982963562, 0.9298689961433411]]]], ...}}\n",
      "test_layer_cls = <class 'a4_course_cvdl_t1.relu.ReluLayer'>\n",
      "\n",
      "    def test_init(self, test_data, test_layer_cls):\n",
      "        values = test_data['values']\n",
      "        meta = test_data['meta']\n",
      "        layer_kwargs = meta['layer_kwargs']\n",
      "    \n",
      "        # check layer creation\n",
      "        try:\n",
      ">           layer = test_layer_cls(**layer_kwargs)\n",
      "\n",
      "../../task1/a4_course_cvdl_t1/tests/base.py:32: \n",
      "_ _ _ _ _ _ _ _ _ _ _ _ _ _ _ _ _ _ _ _ _ _ _ _ _ _ _ _ _ _ _ _ _ _ _ _ _ _ _ _ \n",
      "\n",
      "self = <a4_course_cvdl_t1.relu.ReluLayer object at 0x7f3a834bb220>\n",
      "\n",
      "    def __init__(self):\n",
      "        super().__init__()\n",
      ">       raise NotImplementedError()\n",
      "E       NotImplementedError\n",
      "\n",
      "../../task1/a4_course_cvdl_t1/relu.py:12: NotImplementedError\n",
      "\n",
      "During handling of the above exception, another exception occurred:\n",
      "\n",
      "self = <a4_course_cvdl_t1.tests.base.TestLayer object at 0x7f3a8351f9d0>\n",
      "test_data = {'meta': {'description': 'The only ReLU test.', 'layer_kwargs': {}}, 'values': {'input': [[[[0.3445909917354584, -0.44...36354065], [0.320019006729126, 0.7765920162200928, 0.8497490286827087, 0.796563982963562, 0.9298689961433411]]]], ...}}\n",
      "test_layer_cls = <class 'a4_course_cvdl_t1.relu.ReluLayer'>\n",
      "\n",
      "    def test_init(self, test_data, test_layer_cls):\n",
      "        values = test_data['values']\n",
      "        meta = test_data['meta']\n",
      "        layer_kwargs = meta['layer_kwargs']\n",
      "    \n",
      "        # check layer creation\n",
      "        try:\n",
      "            layer = test_layer_cls(**layer_kwargs)\n",
      "        except Exception as exc:\n",
      ">           raise AssertionError(\n",
      "                self.error_message(meta, f\"Failed __init__ with kwargs '{layer_kwargs}':{exc}\")\n",
      "            )\n",
      "E           AssertionError: [The only ReLU test.]:Failed __init__ with kwargs '{}':\n",
      "\n",
      "../../task1/a4_course_cvdl_t1/tests/base.py:34: AssertionError\n",
      "=========================== short test summary info ============================\n",
      "FAILED ::TestLayer::test_init[test_data0] - AssertionError: [The only ReLU te...\n",
      "!!!!!!!!!!!!!!!!!!!!!!!!!! stopping after 1 failures !!!!!!!!!!!!!!!!!!!!!!!!!!!\n",
      "============================== 1 failed in 0.16s ===============================\n"
     ]
    },
    {
     "ename": "Exception",
     "evalue": "Process exited with code 1",
     "output_type": "error",
     "traceback": [
      "\u001b[0;31m---------------------------------------------------------------------------\u001b[0m",
      "\u001b[0;31mException\u001b[0m                                 Traceback (most recent call last)",
      "\u001b[0;32m<ipython-input-23-e638c7d460df>\u001b[0m in \u001b[0;36m<module>\u001b[0;34m\u001b[0m\n\u001b[0;32m----> 1\u001b[0;31m \u001b[0mget_ipython\u001b[0m\u001b[0;34m(\u001b[0m\u001b[0;34m)\u001b[0m\u001b[0;34m.\u001b[0m\u001b[0msystem\u001b[0m\u001b[0;34m(\u001b[0m\u001b[0;34m' pytest --pyargs a4_course_cvdl_t1.tests.test_0relu -x'\u001b[0m\u001b[0;34m)\u001b[0m\u001b[0;34m\u001b[0m\u001b[0;34m\u001b[0m\u001b[0m\n\u001b[0m\u001b[1;32m      2\u001b[0m \u001b[0;31m#\u001b[0m\u001b[0;34m\u001b[0m\u001b[0;34m\u001b[0m\u001b[0;34m\u001b[0m\u001b[0m\n",
      "\u001b[0;32m/kernel/lib/python3.9/site-packages/ml_kernel/kernel.py\u001b[0m in \u001b[0;36m<lambda>\u001b[0;34m(code)\u001b[0m\n\u001b[1;32m    295\u001b[0m \u001b[0;34m\u001b[0m\u001b[0m\n\u001b[1;32m    296\u001b[0m         \u001b[0mself\u001b[0m\u001b[0;34m.\u001b[0m\u001b[0m_script_executor\u001b[0m \u001b[0;34m=\u001b[0m \u001b[0mScriptExecutor\u001b[0m\u001b[0;34m(\u001b[0m\u001b[0mget_output_error_code\u001b[0m\u001b[0;34m)\u001b[0m\u001b[0;34m\u001b[0m\u001b[0;34m\u001b[0m\u001b[0m\n\u001b[0;32m--> 297\u001b[0;31m         \u001b[0mself\u001b[0m\u001b[0;34m.\u001b[0m\u001b[0mshell\u001b[0m\u001b[0;34m.\u001b[0m\u001b[0msystem\u001b[0m \u001b[0;34m=\u001b[0m \u001b[0;32mlambda\u001b[0m \u001b[0mcode\u001b[0m\u001b[0;34m:\u001b[0m \u001b[0mself\u001b[0m\u001b[0;34m.\u001b[0m\u001b[0m_script_executor\u001b[0m\u001b[0;34m.\u001b[0m\u001b[0mexecute\u001b[0m\u001b[0;34m(\u001b[0m\u001b[0;34m\"bash\"\u001b[0m\u001b[0;34m,\u001b[0m \u001b[0mcode\u001b[0m\u001b[0;34m)\u001b[0m\u001b[0;34m\u001b[0m\u001b[0;34m\u001b[0m\u001b[0m\n\u001b[0m\u001b[1;32m    298\u001b[0m \u001b[0;34m\u001b[0m\u001b[0m\n\u001b[1;32m    299\u001b[0m     \u001b[0;32mdef\u001b[0m \u001b[0m_init_message_handlers\u001b[0m\u001b[0;34m(\u001b[0m\u001b[0mself\u001b[0m\u001b[0;34m)\u001b[0m\u001b[0;34m:\u001b[0m\u001b[0;34m\u001b[0m\u001b[0;34m\u001b[0m\u001b[0m\n",
      "\u001b[0;32m/kernel/lib/python3.9/site-packages/ml_kernel/script_executor.py\u001b[0m in \u001b[0;36mexecute\u001b[0;34m(self, lang, code)\u001b[0m\n\u001b[1;32m     41\u001b[0m         \u001b[0mreturn_code\u001b[0m \u001b[0;34m=\u001b[0m \u001b[0mself\u001b[0m\u001b[0;34m.\u001b[0m\u001b[0mdo_execute\u001b[0m\u001b[0;34m(\u001b[0m\u001b[0mcode\u001b[0m\u001b[0;34m)\u001b[0m\u001b[0;34m\u001b[0m\u001b[0;34m\u001b[0m\u001b[0m\n\u001b[1;32m     42\u001b[0m         \u001b[0;32mif\u001b[0m \u001b[0mreturn_code\u001b[0m \u001b[0;34m!=\u001b[0m \u001b[0;36m0\u001b[0m\u001b[0;34m:\u001b[0m\u001b[0;34m\u001b[0m\u001b[0;34m\u001b[0m\u001b[0m\n\u001b[0;32m---> 43\u001b[0;31m             \u001b[0;32mraise\u001b[0m \u001b[0mException\u001b[0m\u001b[0;34m(\u001b[0m\u001b[0;34m'Process exited with code %d'\u001b[0m \u001b[0;34m%\u001b[0m \u001b[0mreturn_code\u001b[0m\u001b[0;34m)\u001b[0m\u001b[0;34m\u001b[0m\u001b[0;34m\u001b[0m\u001b[0m\n\u001b[0m",
      "\u001b[0;31mException\u001b[0m: Process exited with code 1"
     ]
    }
   ],
   "source": [
    "! pytest --pyargs a4_course_cvdl_t1.tests.test_0relu -x"
   ]
  },
  {
   "cell_type": "markdown",
   "id": "fa47e2ac",
   "metadata": {
    "cellId": "am20bckm0d5zqgcd1m090l",
    "execution_id": "d25aaa38-4fcf-446b-a7c0-c8e15e690a34"
   },
   "source": [
    "Исправляем в форке и проверяем баллы после теста"
   ]
  },
  {
   "cell_type": "markdown",
   "id": "f33c9990",
   "metadata": {
    "cellId": "h17hr32pjlnwj6k3dx2mx",
    "execution_id": "c249c851-f62f-4702-a7de-680e2a9f168f"
   },
   "source": [
    "### Broadcasting"
   ]
  },
  {
   "cell_type": "code",
   "execution_count": 68,
   "id": "25bc3460",
   "metadata": {
    "cellId": "fyjei0j245rr6e2il4s1uq"
   },
   "outputs": [
    {
     "name": "stdout",
     "output_type": "stream",
     "text": [
      "(4, 2) (2,)\n"
     ]
    }
   ],
   "source": [
    "# Пусть у нас есть куча 2D точек\n",
    "a = np.array([\n",
    "    [0, 1],\n",
    "    [2, 3],\n",
    "    [4, 5],\n",
    "    [6, 7]\n",
    "])\n",
    "\n",
    "# И мы хотим их все \"сдвинуть\" на 2D вектор-константу\n",
    "b = np.array([10, 20])\n",
    "\n",
    "print(a.shape, b.shape)"
   ]
  },
  {
   "cell_type": "code",
   "execution_count": 69,
   "id": "3d581be8",
   "metadata": {
    "cellId": "7skzwk4tz562vbeba174rv"
   },
   "outputs": [
    {
     "data": {
      "text/plain": [
       "array([[10, 21],\n",
       "       [12, 23],\n",
       "       [14, 25],\n",
       "       [16, 27]])"
      ]
     },
     "execution_count": 69,
     "metadata": {},
     "output_type": "execute_result"
    }
   ],
   "source": [
    "# Работает!\n",
    "a + b"
   ]
  },
  {
   "cell_type": "code",
   "execution_count": 70,
   "id": "6bd8e74e",
   "metadata": {
    "cellId": "v6hqtegi789c7agvwz8yjc"
   },
   "outputs": [
    {
     "name": "stdout",
     "output_type": "stream",
     "text": [
      "(4, 2) (4,)\n",
      "Broadcast error\n",
      "---------------\n"
     ]
    },
    {
     "ename": "ValueError",
     "evalue": "operands could not be broadcast together with shapes (4,2) (4,) ",
     "output_type": "error",
     "traceback": [
      "\u001b[0;31m---------------------------------------------------------------------------\u001b[0m",
      "\u001b[0;31mValueError\u001b[0m                                Traceback (most recent call last)",
      "\u001b[0;32m<ipython-input-26-4d2ea683c68e>\u001b[0m in \u001b[0;36m<module>\u001b[0;34m\u001b[0m\n\u001b[1;32m      4\u001b[0m \u001b[0mprint\u001b[0m\u001b[0;34m(\u001b[0m\u001b[0;34m\"Broadcast error\"\u001b[0m\u001b[0;34m)\u001b[0m\u001b[0;34m\u001b[0m\u001b[0;34m\u001b[0m\u001b[0m\n\u001b[1;32m      5\u001b[0m \u001b[0mprint\u001b[0m\u001b[0;34m(\u001b[0m\u001b[0;34m\"---------------\"\u001b[0m\u001b[0;34m)\u001b[0m\u001b[0;34m\u001b[0m\u001b[0;34m\u001b[0m\u001b[0m\n\u001b[0;32m----> 6\u001b[0;31m \u001b[0ma\u001b[0m \u001b[0;34m+\u001b[0m \u001b[0mb\u001b[0m\u001b[0;34m\u001b[0m\u001b[0;34m\u001b[0m\u001b[0m\n\u001b[0m\u001b[1;32m      7\u001b[0m \u001b[0;31m# не работает, т.к. форма не п\u001b[0m\u001b[0;34m\u001b[0m\u001b[0;34m\u001b[0m\u001b[0;34m\u001b[0m\u001b[0m\n\u001b[1;32m      8\u001b[0m \u001b[0;31m#\u001b[0m\u001b[0;34m\u001b[0m\u001b[0;34m\u001b[0m\u001b[0;34m\u001b[0m\u001b[0m\n",
      "\u001b[0;31mValueError\u001b[0m: operands could not be broadcast together with shapes (4,2) (4,) "
     ]
    }
   ],
   "source": [
    "# Попробуем теперь каждой точке добавить разный сдвиг\n",
    "b = np.array([10, 20, 30, 40])\n",
    "print(a.shape, b.shape)\n",
    "print(\"Broadcast error\")\n",
    "print(\"---------------\")\n",
    "a + b\n",
    "# не работает, т.к. форма не п"
   ]
  },
  {
   "cell_type": "code",
   "execution_count": 82,
   "id": "9b2323a0",
   "metadata": {
    "cellId": "a9c5dtbzhv9ibgpuphja1"
   },
   "outputs": [
    {
     "name": "stdout",
     "output_type": "stream",
     "text": [
      "(2, 3, 4) (3, 1)\n"
     ]
    },
    {
     "data": {
      "text/plain": [
       "array([[[  0.  ,   3.33,   6.66,   9.99],\n",
       "        [ 29.32,  36.65,  43.98,  51.31],\n",
       "        [ 90.64, 101.97, 113.3 , 124.63]],\n",
       "\n",
       "       [[ 39.96,  43.29,  46.62,  49.95],\n",
       "        [117.28, 124.61, 131.94, 139.27],\n",
       "        [226.6 , 237.93, 249.26, 260.59]]])"
      ]
     },
     "execution_count": 82,
     "metadata": {},
     "output_type": "execute_result"
    }
   ],
   "source": [
    "# Приводим тензоры явно к форме для бродкаста\n",
    "print(a.shape, b[:, None].shape)\n",
    "\n",
    "a * b[:, None]"
   ]
  },
  {
   "cell_type": "code",
   "execution_count": 83,
   "id": "47e276dc",
   "metadata": {
    "cellId": "nt5gdk83njlm4phccqb6g8"
   },
   "outputs": [
    {
     "name": "stdout",
     "output_type": "stream",
     "text": [
      "c[i, j, k] = a[1, i, k] * b[j, 1, k]\n",
      "------------------------------\n",
      "(3, 2) (4, 2) (4, 3, 2)\n",
      "[[[ 0 20]\n",
      "  [10  0]\n",
      "  [10 20]]\n",
      "\n",
      " [[ 0 40]\n",
      "  [30  0]\n",
      "  [30 40]]\n",
      "\n",
      " [[ 0 60]\n",
      "  [50  0]\n",
      "  [50 60]]\n",
      "\n",
      " [[ 0 80]\n",
      "  [70  0]\n",
      "  [70 80]]]\n"
     ]
    }
   ],
   "source": [
    "a = np.array([\n",
    "    [0, 1],\n",
    "    [1, 0],\n",
    "    [1, 1]\n",
    "])\n",
    "b = np.array([\n",
    "    [10, 20],\n",
    "    [30, 40],\n",
    "    [50, 60],\n",
    "    [70, 80]\n",
    "])\n",
    "c = a[None] * b[:, None]\n",
    "print(\"c[i, j, k] = a[1, i, k] * b[j, 1, k]\")\n",
    "print(\"------------------------------\")\n",
    "print(a.shape, b.shape, c.shape)\n",
    "\n",
    "print(c)"
   ]
  },
  {
   "cell_type": "markdown",
   "id": "e34005fe",
   "metadata": {
    "cellId": "868wej9kn5ib1xbwvpqqhf",
    "execution_id": "f4dc71d2-e1a2-4b40-b00b-fffba382d71d"
   },
   "source": [
    "### Tensordot"
   ]
  },
  {
   "cell_type": "code",
   "execution_count": 84,
   "id": "46e51f2b",
   "metadata": {
    "cellId": "ho13hrx1xamx0wm62iqjia"
   },
   "outputs": [
    {
     "name": "stdout",
     "output_type": "stream",
     "text": [
      "Help on _ArrayFunctionDispatcher in module numpy:\n",
      "\n",
      "tensordot(a, b, axes=2)\n",
      "    Compute tensor dot product along specified axes.\n",
      "    \n",
      "    Given two tensors, `a` and `b`, and an array_like object containing\n",
      "    two array_like objects, ``(a_axes, b_axes)``, sum the products of\n",
      "    `a`'s and `b`'s elements (components) over the axes specified by\n",
      "    ``a_axes`` and ``b_axes``. The third argument can be a single non-negative\n",
      "    integer_like scalar, ``N``; if it is such, then the last ``N`` dimensions\n",
      "    of `a` and the first ``N`` dimensions of `b` are summed over.\n",
      "    \n",
      "    Parameters\n",
      "    ----------\n",
      "    a, b : array_like\n",
      "        Tensors to \"dot\".\n",
      "    \n",
      "    axes : int or (2,) array_like\n",
      "        * integer_like\n",
      "          If an int N, sum over the last N axes of `a` and the first N axes\n",
      "          of `b` in order. The sizes of the corresponding axes must match.\n",
      "        * (2,) array_like\n",
      "          Or, a list of axes to be summed over, first sequence applying to `a`,\n",
      "          second to `b`. Both elements array_like must be of the same length.\n",
      "    \n",
      "    Returns\n",
      "    -------\n",
      "    output : ndarray\n",
      "        The tensor dot product of the input.\n",
      "    \n",
      "    See Also\n",
      "    --------\n",
      "    dot, einsum\n",
      "    \n",
      "    Notes\n",
      "    -----\n",
      "    Three common use cases are:\n",
      "        * ``axes = 0`` : tensor product :math:`a\\otimes b`\n",
      "        * ``axes = 1`` : tensor dot product :math:`a\\cdot b`\n",
      "        * ``axes = 2`` : (default) tensor double contraction :math:`a:b`\n",
      "    \n",
      "    When `axes` is integer_like, the sequence for evaluation will be: first\n",
      "    the -Nth axis in `a` and 0th axis in `b`, and the -1th axis in `a` and\n",
      "    Nth axis in `b` last.\n",
      "    \n",
      "    When there is more than one axis to sum over - and they are not the last\n",
      "    (first) axes of `a` (`b`) - the argument `axes` should consist of\n",
      "    two sequences of the same length, with the first axis to sum over given\n",
      "    first in both sequences, the second axis second, and so forth.\n",
      "    \n",
      "    The shape of the result consists of the non-contracted axes of the\n",
      "    first tensor, followed by the non-contracted axes of the second.\n",
      "    \n",
      "    Examples\n",
      "    --------\n",
      "    A \"traditional\" example:\n",
      "    \n",
      "    >>> a = np.arange(60.).reshape(3,4,5)\n",
      "    >>> b = np.arange(24.).reshape(4,3,2)\n",
      "    >>> c = np.tensordot(a,b, axes=([1,0],[0,1]))\n",
      "    >>> c.shape\n",
      "    (5, 2)\n",
      "    >>> c\n",
      "    array([[4400., 4730.],\n",
      "           [4532., 4874.],\n",
      "           [4664., 5018.],\n",
      "           [4796., 5162.],\n",
      "           [4928., 5306.]])\n",
      "    >>> # A slower but equivalent way of computing the same...\n",
      "    >>> d = np.zeros((5,2))\n",
      "    >>> for i in range(5):\n",
      "    ...   for j in range(2):\n",
      "    ...     for k in range(3):\n",
      "    ...       for n in range(4):\n",
      "    ...         d[i,j] += a[k,n,i] * b[n,k,j]\n",
      "    >>> c == d\n",
      "    array([[ True,  True],\n",
      "           [ True,  True],\n",
      "           [ True,  True],\n",
      "           [ True,  True],\n",
      "           [ True,  True]])\n",
      "    \n",
      "    An extended example taking advantage of the overloading of + and \\*:\n",
      "    \n",
      "    >>> a = np.array(range(1, 9))\n",
      "    >>> a.shape = (2, 2, 2)\n",
      "    >>> A = np.array(('a', 'b', 'c', 'd'), dtype=object)\n",
      "    >>> A.shape = (2, 2)\n",
      "    >>> a; A\n",
      "    array([[[1, 2],\n",
      "            [3, 4]],\n",
      "           [[5, 6],\n",
      "            [7, 8]]])\n",
      "    array([['a', 'b'],\n",
      "           ['c', 'd']], dtype=object)\n",
      "    \n",
      "    >>> np.tensordot(a, A) # third argument default is 2 for double-contraction\n",
      "    array(['abbcccdddd', 'aaaaabbbbbbcccccccdddddddd'], dtype=object)\n",
      "    \n",
      "    >>> np.tensordot(a, A, 1)\n",
      "    array([[['acc', 'bdd'],\n",
      "            ['aaacccc', 'bbbdddd']],\n",
      "           [['aaaaacccccc', 'bbbbbdddddd'],\n",
      "            ['aaaaaaacccccccc', 'bbbbbbbdddddddd']]], dtype=object)\n",
      "    \n",
      "    >>> np.tensordot(a, A, 0) # tensor product (result too long to incl.)\n",
      "    array([[[[['a', 'b'],\n",
      "              ['c', 'd']],\n",
      "              ...\n",
      "    \n",
      "    >>> np.tensordot(a, A, (0, 1))\n",
      "    array([[['abbbbb', 'cddddd'],\n",
      "            ['aabbbbbb', 'ccdddddd']],\n",
      "           [['aaabbbbbbb', 'cccddddddd'],\n",
      "            ['aaaabbbbbbbb', 'ccccdddddddd']]], dtype=object)\n",
      "    \n",
      "    >>> np.tensordot(a, A, (2, 1))\n",
      "    array([[['abb', 'cdd'],\n",
      "            ['aaabbbb', 'cccdddd']],\n",
      "           [['aaaaabbbbbb', 'cccccdddddd'],\n",
      "            ['aaaaaaabbbbbbbb', 'cccccccdddddddd']]], dtype=object)\n",
      "    \n",
      "    >>> np.tensordot(a, A, ((0, 1), (0, 1)))\n",
      "    array(['abbbcccccddddddd', 'aabbbbccccccdddddddd'], dtype=object)\n",
      "    \n",
      "    >>> np.tensordot(a, A, ((2, 1), (1, 0)))\n",
      "    array(['acccbbdddd', 'aaaaacccccccbbbbbbdddddddd'], dtype=object)\n",
      "\n"
     ]
    }
   ],
   "source": [
    "help(np.tensordot)"
   ]
  },
  {
   "cell_type": "code",
   "execution_count": 85,
   "id": "a64027e5",
   "metadata": {
    "cellId": "mmv7w0cdujm53nh4yvpj7e"
   },
   "outputs": [
    {
     "name": "stdout",
     "output_type": "stream",
     "text": [
      "c[i, k] = Sum(a[i, j] * b[j, k]\n",
      "-------------------------------\n",
      "(3, 2) (2,)\n"
     ]
    },
    {
     "data": {
      "text/plain": [
       "array([ 4.5, -4.5, 10. ])"
      ]
     },
     "execution_count": 85,
     "metadata": {},
     "output_type": "execute_result"
    }
   ],
   "source": [
    "a = np.array([\n",
    "    [0.5, -0.5],\n",
    "    [-0.5, 0.5],\n",
    "    [1, 0.]\n",
    "])\n",
    "b = np.array([10, 1])\n",
    "print(\"c[i, k] = Sum(a[i, j] * b[j, k]\")\n",
    "print('-------------------------------')\n",
    "print(a.shape, b.shape)\n",
    "a @ b"
   ]
  },
  {
   "cell_type": "code",
   "execution_count": 86,
   "id": "109765fe",
   "metadata": {
    "cellId": "duj5w2mvnmt647m4e5hc"
   },
   "outputs": [
    {
     "data": {
      "text/plain": [
       "array([ 4.5, -4.5, 10. ])"
      ]
     },
     "execution_count": 86,
     "metadata": {},
     "output_type": "execute_result"
    }
   ],
   "source": [
    "np.tensordot(\n",
    "    a, b,\n",
    "    axes=[1, 0]\n",
    ")"
   ]
  },
  {
   "cell_type": "markdown",
   "id": "79eccd2a",
   "metadata": {
    "cellId": "212qykrte6j40v5z9oiy2v",
    "execution_id": "530c7bc7-e777-4fa6-b410-4ff81f4970eb"
   },
   "source": [
    "Многомерный tensordot"
   ]
  },
  {
   "cell_type": "code",
   "execution_count": 87,
   "id": "e7d60500",
   "metadata": {
    "cellId": "vqrma9gi6ypdu5bcm5cxgr"
   },
   "outputs": [
    {
     "data": {
      "text/plain": [
       "array([[[ 0,  1,  2,  3],\n",
       "        [ 4,  5,  6,  7],\n",
       "        [ 8,  9, 10, 11]],\n",
       "\n",
       "       [[12, 13, 14, 15],\n",
       "        [16, 17, 18, 19],\n",
       "        [20, 21, 22, 23]]])"
      ]
     },
     "execution_count": 87,
     "metadata": {},
     "output_type": "execute_result"
    }
   ],
   "source": [
    "a = np.arange(2* 3 *4).reshape((2, 3 ,4))\n",
    "a"
   ]
  },
  {
   "cell_type": "code",
   "execution_count": 88,
   "id": "64def8d4",
   "metadata": {
    "cellId": "vervqtldsslipinuc07v1"
   },
   "outputs": [
    {
     "data": {
      "text/plain": [
       "array([[0, 1],\n",
       "       [0, 1],\n",
       "       [0, 1],\n",
       "       [0, 1]])"
      ]
     },
     "execution_count": 88,
     "metadata": {},
     "output_type": "execute_result"
    }
   ],
   "source": [
    "b = np.arange(4 * 2).reshape((4, 2)) % 2\n",
    "b"
   ]
  },
  {
   "cell_type": "code",
   "execution_count": 89,
   "id": "90614526",
   "metadata": {
    "cellId": "b6mwtyw9njmh0j1l9hpkh8"
   },
   "outputs": [
    {
     "data": {
      "text/plain": [
       "array([54, 70, 86])"
      ]
     },
     "execution_count": 89,
     "metadata": {},
     "output_type": "execute_result"
    }
   ],
   "source": [
    "np.tensordot(\n",
    "    a, b,\n",
    "    axes=[\n",
    "        [-1, 0],\n",
    "        [0, 1]\n",
    "    ]\n",
    ")"
   ]
  },
  {
   "cell_type": "markdown",
   "id": "69268ff6",
   "metadata": {
    "cellId": "t3ajqf8dtmaimywbxou0fj",
    "execution_id": "bc9ca727-cfaa-4029-b838-48fe61ef2e90"
   },
   "source": [
    "### View vs Copy"
   ]
  },
  {
   "cell_type": "code",
   "execution_count": 90,
   "id": "b39e945d",
   "metadata": {
    "cellId": "c9nc189tco43tej2iukyv"
   },
   "outputs": [
    {
     "name": "stdout",
     "output_type": "stream",
     "text": [
      "[[[17.33 18.33 19.33]\n",
      "  [21.33 22.33 23.33]]]\n",
      "---------\n",
      "[[[ 0.    1.    2.    3.  ]\n",
      "  [ 4.    5.    6.    7.  ]\n",
      "  [ 8.    9.   10.   11.  ]]\n",
      "\n",
      " [[12.   13.   14.   15.  ]\n",
      "  [16.   17.33 18.33 19.33]\n",
      "  [20.   21.33 22.33 23.33]]]\n"
     ]
    }
   ],
   "source": [
    "a = np.arange(2 * 3 * 4).reshape((2, 3 , 4)).astype(float)\n",
    "b = a[1:, 1:, 1:]\n",
    "b += 0.33\n",
    "print(b)\n",
    "print(\"---------\")\n",
    "print(a)"
   ]
  },
  {
   "cell_type": "code",
   "execution_count": 91,
   "id": "e57455da",
   "metadata": {
    "cellId": "3hn4at0o9iuakuy731g4wh"
   },
   "outputs": [
    {
     "name": "stdout",
     "output_type": "stream",
     "text": [
      "17.33\n",
      "---------\n",
      "[[[ 0.  1.  2.  3.]\n",
      "  [ 4.  5.  6.  7.]\n",
      "  [ 8.  9. 10. 11.]]\n",
      "\n",
      " [[12. 13. 14. 15.]\n",
      "  [16. 17. 18. 19.]\n",
      "  [20. 21. 22. 23.]]]\n"
     ]
    }
   ],
   "source": [
    "a = np.arange(2 * 3 * 4).reshape((2, 3 , 4)).astype(float)\n",
    "b = a[1, 1, 1]\n",
    "b += 0.33\n",
    "print(b)\n",
    "print(\"---------\")\n",
    "print(a)"
   ]
  },
  {
   "cell_type": "code",
   "execution_count": 92,
   "id": "18a3cb3d",
   "metadata": {
    "cellId": "zcunxsqfqd89yt5g3th8lt"
   },
   "outputs": [
    {
     "name": "stdout",
     "output_type": "stream",
     "text": [
      "[[[[17.33 18.33 19.33]\n",
      "   [21.33 22.33 23.33]]]]\n",
      "---------\n",
      "[[[ 0.    1.    2.    3.  ]\n",
      "  [ 4.    5.    6.    7.  ]\n",
      "  [ 8.    9.   10.   11.  ]]\n",
      "\n",
      " [[12.   13.   14.   15.  ]\n",
      "  [16.   17.33 18.33 19.33]\n",
      "  [20.   21.33 22.33 23.33]]]\n"
     ]
    }
   ],
   "source": [
    "a = np.arange(2 * 3 * 4).reshape((2, 3 , 4)).astype(float)\n",
    "b = a[None, 1:, 1:, 1:]\n",
    "b += 0.33\n",
    "print(b)\n",
    "print(\"---------\")\n",
    "print(a)"
   ]
  },
  {
   "cell_type": "code",
   "execution_count": 93,
   "id": "b2dedc07",
   "metadata": {
    "cellId": "x7gvl2guxgh3fxfmv4yad"
   },
   "outputs": [
    {
     "name": "stdout",
     "output_type": "stream",
     "text": [
      "[[[ 0.    1.    2.    3.33]\n",
      "  [ 4.    5.    6.    7.33]\n",
      "  [ 8.    9.   10.   11.33]]\n",
      "\n",
      " [[12.   13.   14.   15.  ]\n",
      "  [16.   17.   18.   19.  ]\n",
      "  [20.   21.   22.   23.  ]]]\n"
     ]
    }
   ],
   "source": [
    "a = np.arange(2 * 3 * 4).reshape((2, 3 , 4)).astype(float)\n",
    "a[[0,0,0],[0, 1, 2], [-1, -1, -1]] += 0.33\n",
    "print(a)"
   ]
  },
  {
   "cell_type": "code",
   "execution_count": 81,
   "id": "8d24333f",
   "metadata": {
    "cellId": "digbl27n3h9uywxgshv29f"
   },
   "outputs": [
    {
     "name": "stdout",
     "output_type": "stream",
     "text": [
      "[[[ 0.  1.  2.  3.]\n",
      "  [ 4.  5.  6.  7.]\n",
      "  [ 8.  9. 10. 11.]]\n",
      "\n",
      " [[12. 13. 14. 15.]\n",
      "  [16. 17. 18. 19.]\n",
      "  [20. 21. 22. 23.]]]\n"
     ]
    }
   ],
   "source": [
    "a = np.arange(2 * 3 * 4).reshape((2, 3 , 4)).astype(float)\n",
    "b = a[[0,0,0],[0, 1, 2], [-1, -1, -1]] \n",
    "b += 0.33\n",
    "print(a)"
   ]
  },
  {
   "cell_type": "code",
   "execution_count": null,
   "id": "0fc1cecf",
   "metadata": {
    "cellId": "b5w1kolx95i00oib9jy5g"
   },
   "outputs": [],
   "source": []
  }
 ],
 "metadata": {
  "language_info": {
   "codemirror_mode": {
    "name": "ipython",
    "version": 3
   },
   "file_extension": ".py",
   "mimetype": "text/x-python",
   "name": "python",
   "nbconvert_exporter": "python",
   "pygments_lexer": "ipython3",
   "version": "3.7.7"
  },
  "notebookId": "a0158a7a-cacc-4a37-8b0e-2c0a039cd2c4",
  "notebookPath": "course_cvdl/classes/c01/c1.ipynb"
 },
 "nbformat": 4,
 "nbformat_minor": 5
}
